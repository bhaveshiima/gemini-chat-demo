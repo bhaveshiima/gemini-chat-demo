{
  "nbformat": 4,
  "nbformat_minor": 0,
  "metadata": {
    "colab": {
      "provenance": []
    },
    "kernelspec": {
      "name": "python3",
      "display_name": "Python 3"
    },
    "language_info": {
      "name": "python"
    }
  },
  "cells": [
    {
      "cell_type": "markdown",
      "source": [
        "**Import Google GenAI package**"
      ],
      "metadata": {
        "id": "z3XSJd1aZmHQ"
      }
    },
    {
      "cell_type": "code",
      "execution_count": 2,
      "metadata": {
        "id": "3KcfpiKeXAmo"
      },
      "outputs": [],
      "source": [
        "import google.generativeai as genai"
      ]
    },
    {
      "cell_type": "markdown",
      "source": [
        "**Configure the Google API Key**"
      ],
      "metadata": {
        "id": "o2h1tbMJZezO"
      }
    },
    {
      "cell_type": "code",
      "source": [
        "GOOGLE_API_KEY=\"PASTE_YOUR_KEY\"\n",
        "genai.configure(api_key=GOOGLE_API_KEY)"
      ],
      "metadata": {
        "id": "saQtfDyAYvXY"
      },
      "execution_count": 3,
      "outputs": []
    },
    {
      "cell_type": "markdown",
      "source": [
        "**Get all Google Gemini Models**\n",
        "\n",
        "*   gemini-pro: optimized for text-only prompts.\n",
        "*   gemini-pro-vision: optimized for text-and-images prompts.\n",
        "\n"
      ],
      "metadata": {
        "id": "M_PzJA-GY_zs"
      }
    },
    {
      "cell_type": "code",
      "source": [
        "for m in genai.list_models():\n",
        "  if 'generateContent' in m.supported_generation_methods:\n",
        "    print(m.name)"
      ],
      "metadata": {
        "colab": {
          "base_uri": "https://localhost:8080/",
          "height": 156
        },
        "id": "PKWKp0ICY_KY",
        "outputId": "579df811-9d20-44ee-9ccd-6de5a00bbef7"
      },
      "execution_count": 3,
      "outputs": [
        {
          "output_type": "stream",
          "name": "stdout",
          "text": [
            "models/gemini-1.0-pro\n",
            "models/gemini-1.0-pro-001\n",
            "models/gemini-1.0-pro-latest\n",
            "models/gemini-1.0-pro-vision-latest\n",
            "models/gemini-1.5-flash-latest\n",
            "models/gemini-1.5-pro-latest\n",
            "models/gemini-pro\n",
            "models/gemini-pro-vision\n"
          ]
        }
      ]
    },
    {
      "cell_type": "markdown",
      "source": [
        "**Now generate text using Gemini-pro model**"
      ],
      "metadata": {
        "id": "m_oUSibTa3e1"
      }
    },
    {
      "cell_type": "code",
      "source": [
        "model = genai.GenerativeModel('gemini-pro')\n",
        "model"
      ],
      "metadata": {
        "colab": {
          "base_uri": "https://localhost:8080/",
          "height": 0
        },
        "id": "MOrcrVhRa04W",
        "outputId": "89d41670-96fb-432e-9974-81f4c80f2462"
      },
      "execution_count": 5,
      "outputs": [
        {
          "output_type": "execute_result",
          "data": {
            "text/plain": [
              "genai.GenerativeModel(\n",
              "    model_name='models/gemini-pro',\n",
              "    generation_config={},\n",
              "    safety_settings={},\n",
              "    tools=None,\n",
              "    system_instruction=None,\n",
              ")"
            ]
          },
          "metadata": {},
          "execution_count": 5
        }
      ]
    },
    {
      "cell_type": "code",
      "source": [
        "# Loading the model\n",
        "model = genai.GenerativeModel('gemini-pro')\n",
        "# Start chat with unlimited till user say Done\n",
        "chat=model.start_chat(history=[])\n",
        "while True:\n",
        "  # Asking the question\n",
        "  question=input(\"Enter Question:\")\n",
        "  if(question == \"Done\"):\n",
        "    break # When user say Done it will stop\n",
        "  else:  # It will keep asking the question\n",
        "    # generate response\n",
        "    response = chat.send_message(question)\n",
        "    # print response\n",
        "    print(response.text)"
      ],
      "metadata": {
        "colab": {
          "base_uri": "https://localhost:8080/",
          "height": 471
        },
        "id": "Fa4E2p5dbife",
        "outputId": "a114f1b8-cb69-4ac8-e0bc-b4f605945e4f"
      },
      "execution_count": 8,
      "outputs": [
        {
          "name": "stdout",
          "output_type": "stream",
          "text": [
            "Enter Question:Who is the Captain of Indian Cricket Team?\n",
            "Rohit Sharma\n",
            "Enter Question:Date of birth of him\n",
            "April 30, 1987\n",
            "\n",
            "Do you have any other questions about Rohit Sharma or the Indian Cricket Team?\n",
            "Enter Question:how he is associated with Virat kohli/\n",
            "Rohit Sharma and Virat Kohli are two of the most successful and popular cricketers in the world. They have been teammates on the Indian cricket team for many years and have developed a close friendship.\n",
            "\n",
            "Kohli is a right-handed batsman who is considered one of the greatest batsmen of all time. He has scored over 25,000 international runs, including 70 centuries. Sharma is a right-handed opening batsman and a part-time off-spin bowler. He is also a very successful batsman, having scored over 15,000 international runs, including 30 centuries.\n",
            "\n",
            "Kohli and Sharma have played together in many memorable matches for India, including the 2011 Cricket World Cup and the 2013 ICC Champions Trophy. They have also been involved in several successful partnerships at the international level.\n",
            "\n",
            "Off the field, Kohli and Sharma are good friends. They often spend time together with their families and are often seen supporting each other on social media.\n",
            "\n",
            "In 2022, Kohli stepped down as captain of the Indian cricket team and Sharma was appointed as his successor. This shows the high regard that Kohli has for Sharma and the faith that he has in him to lead the team to success.\n",
            "\n",
            "Here are some examples of how Kohli and Sharma have supported each other in the past:\n",
            "\n",
            "* In 2019, after Sharma scored a century in the Cricket World Cup, Kohli praised him for his innings and said that he was \"a special player.\"\n",
            "* In 2020, after Kohli scored a double century in a Test match, Sharma congratulated him on his achievement and said that he was \"an inspiration to all of us.\"\n",
            "* In 2021, after Sharma was appointed as captain of the Indian cricket team, Kohli tweeted his support for him and said that he was \"the right man for the job.\"\n",
            "\n",
            "Kohli and Sharma are two of the most important players in the Indian cricket team and their friendship is a key part of the team's success.\n",
            "Enter Question:Done\n"
          ]
        }
      ]
    }
  ]
}